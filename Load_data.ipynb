{
 "cells": [
  {
   "cell_type": "code",
   "execution_count": 1,
   "metadata": {
    "collapsed": false
   },
   "outputs": [
    {
     "name": "stdout",
     "output_type": "stream",
     "text": [
      "Populating the interactive namespace from numpy and matplotlib\n"
     ]
    }
   ],
   "source": [
    "import numpy as np\n",
    "import os\n",
    "import time, calendar, datetime\n",
    "from mpl_toolkits.basemap import Basemap\n",
    "import matplotlib.pyplot as plt\n",
    "%matplotlib inline\n",
    "%pylab inline\n",
    "pylab.rcParams['figure.figsize'] = (15, 15)\n",
    "import glob\n",
    "import pyproj\n",
    "import imageio"
   ]
  },
  {
   "cell_type": "code",
   "execution_count": 2,
   "metadata": {
    "collapsed": true
   },
   "outputs": [],
   "source": [
    "## Remove all warning \n",
    "import warnings\n",
    "warnings.filterwarnings('ignore')"
   ]
  },
  {
   "cell_type": "raw",
   "metadata": {},
   "source": [
    "Reading all subfolder in Data folder"
   ]
  },
  {
   "cell_type": "code",
   "execution_count": 3,
   "metadata": {
    "collapsed": true
   },
   "outputs": [],
   "source": [
    "os.chdir('/home/gaurav/Desktop/Research Paper/Geolife Trajectories 1.3/Data')\n",
    "## Getting list of all users (182 users)\n",
    "list_of_folder = glob.glob('*')   \n",
    "list_of_folder.sort()"
   ]
  },
  {
   "cell_type": "code",
   "execution_count": 4,
   "metadata": {
    "collapsed": false
   },
   "outputs": [
    {
     "name": "stdout",
     "output_type": "stream",
     "text": [
      "CPU times: user 3min 36s, sys: 3.1 s, total: 3min 39s\n",
      "Wall time: 5min 24s\n"
     ]
    }
   ],
   "source": [
    "%%time\n",
    "data=[0]*182\n",
    "k=0\n",
    "\n",
    "for folder in list_of_folder:\n",
    "    # Changing subfolder or user per loop\n",
    "    folder_name='/home/gaurav/Desktop/Research Paper/Geolife Trajectories 1.3/Data/'+folder+'/Trajectory'\n",
    "    # Change directory\n",
    "    os.chdir(folder_name) \n",
    "    a=[]\n",
    "    # List of all files for a particular user \n",
    "    list_of_files = glob.glob('*.plt')\n",
    "    for file_name in list_of_files:\n",
    "        a.append((np.genfromtxt(file_name,delimiter=',',skip_header=6,names=['Latitude','Longitude','Zero','Altitude',\n",
    "                                                                                 'Duration','Date','Time'],\n",
    "                          dtype=[('Latitude','f8'),('Longitude','f8'),('Zero','i8'),('Altitude','f8'),('Duration','f8'),\n",
    "                                ('Date','S10'),('Time','S8')])))\n",
    "    data[k]=a\n",
    "    # Switching over next user\n",
    "    \n",
    "    os.chdir('/home/gaurav/Desktop/Research Paper/Geolife Trajectories 1.3/Data')\n",
    "    k=k+1\n",
    "    "
   ]
  },
  {
   "cell_type": "code",
   "execution_count": null,
   "metadata": {
    "collapsed": false
   },
   "outputs": [],
   "source": [
    "data[0][0][0]"
   ]
  },
  {
   "cell_type": "markdown",
   "metadata": {},
   "source": [
    "#### We have read all the  files in Data folder\n",
    "data[i][j][k] represent ith user , jth timestamp ,kth row "
   ]
  },
  {
   "cell_type": "code",
   "execution_count": 6,
   "metadata": {
    "collapsed": true
   },
   "outputs": [],
   "source": [
    "# Let's load files of first user that is in subfolder 000 or data[0][:][:]"
   ]
  },
  {
   "cell_type": "code",
   "execution_count": 7,
   "metadata": {
    "collapsed": false
   },
   "outputs": [
    {
     "data": {
      "text/plain": [
       "171"
      ]
     },
     "execution_count": 7,
     "metadata": {},
     "output_type": "execute_result"
    }
   ],
   "source": [
    "len(data[0]) # Number of observation for user one\n",
    "\n"
   ]
  },
  {
   "cell_type": "raw",
   "metadata": {
    "collapsed": false
   },
   "source": [
    "a=6\n",
    "lat_user_one=[]\n",
    "lon_user_one=[]\n",
    "# Additional for loop here will give plot for entire 182 user data\n",
    "for i in range (len(data[a])):\n",
    "    for j in range(len(data[a][i])):\n",
    "        lat_user_one.append(data[a][i][j]['Latitude'])\n",
    "        lon_user_one.append(data[a][i][j]['Longitude'])\n",
    "map = Basemap(projection='merc', lat_0 =np.mean(lat_user_one) , lon_0 = np.mean(lon_user_one),\n",
    "                                                resolution = 'h', area_thresh = 0.01,\n",
    "                                llcrnrlon=min(lon_user_one), llcrnrlat=min(lat_user_one),\n",
    "    urcrnrlon=max(lon_user_one), urcrnrlat=max(lat_user_one))\n",
    "map.drawcoastlines()\n",
    "map.drawcountries()\n",
    "map.fillcontinents(color = 'coral',lake_color='aqua')\n",
    "map.drawmapboundary()\n",
    "x,y=map(lon_user_one,lat_user_one)\n",
    "map.plot(y,x, 'bo', markersize=5)\n"
   ]
  }
 ],
 "metadata": {
  "kernelspec": {
   "display_name": "Python 3",
   "language": "python",
   "name": "python3"
  },
  "language_info": {
   "codemirror_mode": {
    "name": "ipython",
    "version": 3
   },
   "file_extension": ".py",
   "mimetype": "text/x-python",
   "name": "python",
   "nbconvert_exporter": "python",
   "pygments_lexer": "ipython3",
   "version": "3.6.0"
  }
 },
 "nbformat": 4,
 "nbformat_minor": 2
}
